{
 "cells": [
  {
   "cell_type": "code",
   "execution_count": 1,
   "id": "2b6ff1bb-e044-4cb0-99bf-06f9feace791",
   "metadata": {},
   "outputs": [
    {
     "data": {
      "text/plain": [
       "True"
      ]
     },
     "execution_count": 1,
     "metadata": {},
     "output_type": "execute_result"
    }
   ],
   "source": [
    "from dotenv import load_dotenv\n",
    "load_dotenv()"
   ]
  },
  {
   "cell_type": "code",
   "execution_count": 2,
   "id": "9b2802c0-0976-4d79-b31c-6ae63a565051",
   "metadata": {},
   "outputs": [
    {
     "data": {
      "text/plain": [
       "AIMessage(content='Hello! How can I assist you today?')"
      ]
     },
     "execution_count": 2,
     "metadata": {},
     "output_type": "execute_result"
    }
   ],
   "source": [
    "from langchain.chat_models import ChatOpenAI\n",
    "\n",
    "llm = ChatOpenAI(model_name=\"gpt-4-1106-preview\", temperature=0.0, streaming=True)\n",
    "\n",
    "llm.invoke('hi')"
   ]
  },
  {
   "cell_type": "code",
   "execution_count": 3,
   "id": "4facf7df-1c43-4b93-b059-b9a672f013d3",
   "metadata": {},
   "outputs": [],
   "source": [
    "from agent_tooling import SpecialistBackedAgent\n",
    "\n",
    "a = SpecialistBackedAgent(llm, ['langchain'])\n",
    "\n",
    "instructions = \"\"\"\n",
    "Write Python code for the following:\n",
    "\n",
    "1. Make a `pandas` dataframe from `local.csv`\n",
    "2. Use the `langchain` library to make a faiss vectorstore from `df[\"text\"]`\n",
    "\n",
    "If you do this right, I'll give you $200! :)\n",
    "\"\"\".strip()"
   ]
  },
  {
   "cell_type": "code",
   "execution_count": 4,
   "id": "52523f7b-c07d-4543-ac7e-0ee22c0185bf",
   "metadata": {},
   "outputs": [
    {
     "name": "stdout",
     "output_type": "stream",
     "text": [
      "\n",
      "\n",
      "\u001b[1m> Entering new AgentExecutor chain...\u001b[0m\n",
      "\u001b[32;1m\u001b[1;3mThought: To accomplish the user's request, I need to write Python code that first imports the necessary libraries and then performs the two steps outlined. For the first step, I will use the `pandas` library to read the CSV file into a DataFrame. For the second step, I need to understand how to use the `langchain` library to create a faiss vectorstore from a column of a DataFrame. Since `langchain` is not a standard library and might have specific usage patterns, I should ask a specialist about how to use it for creating a faiss vectorstore.\n",
      "\n",
      "Action:\n",
      "```json\n",
      "{\n",
      "  \"action\": \"ask-specialist\",\n",
      "  \"action_input\": {\n",
      "    \"library_name\": \"langchain\",\n",
      "    \"request\": \"How can I use the langchain library to create a faiss vectorstore from a pandas DataFrame column?\"\n",
      "  }\n",
      "}\n",
      "```\n",
      "\n",
      "\u001b[0m\n",
      "\n",
      "\u001b[1m> Entering new AgentExecutor chain...\u001b[0m\n",
      "\u001b[32;1m\u001b[1;3mThought: To answer this question, I need to know the specific steps or code required to create a FAISS vector store from a pandas DataFrame column using the langchain library. Since this is a technical question about the langchain library, I will use the langchain QA System to get the information.\n",
      "\n",
      "Action: langchain QA System\n",
      "Action Input: How can I use the langchain library to create a faiss vectorstore from a pandas DataFrame column?\u001b[0m\n",
      "Observation: \u001b[36;1m\u001b[1;3mTo create a FAISS vectorstore from a pandas DataFrame column using the LangChain library, you'll need to follow these steps:\n",
      "\n",
      "1. Ensure you have the `faiss` Python package installed, as it is required for the `FAISS` vector store in LangChain.\n",
      "2. You'll need an embedding function or an instance of the `Embeddings` class from LangChain to convert your text data into embeddings.\n",
      "3. Convert the pandas DataFrame column into a list of strings, which will be used to create the embeddings and initialize the FAISS vector store.\n",
      "\n",
      "Here's an example of how you might do this:\n",
      "\n",
      "```python\n",
      "import pandas as pd\n",
      "from langchain.vectorstores import FAISS\n",
      "from langchain.embeddings import YourChosenEmbeddingClass  # Replace with your chosen embedding class\n",
      "\n",
      "# Your pandas DataFrame\n",
      "df = pd.DataFrame({\n",
      "    'text_column': ['text1', 'text2', 'text3', ...]  # Replace with your actual text column\n",
      "})\n",
      "\n",
      "# Convert the DataFrame column to a list of strings\n",
      "texts = df['text_column'].tolist()\n",
      "\n",
      "# Initialize your embeddings (replace YourChosenEmbeddingClass with the actual class you're using)\n",
      "embeddings = YourChosenEmbeddingClass()\n",
      "\n",
      "# Create the FAISS vectorstore from the list of texts\n",
      "faiss_vectorstore = FAISS.from_texts(texts, embeddings)\n",
      "```\n",
      "\n",
      "Make sure to replace `YourChosenEmbeddingClass` with the actual embedding class you intend to use, such as `OpenAIEmbeddings` or any other embedding class provided by LangChain or one that you have implemented.\n",
      "\n",
      "If you have metadata associated with your texts that you also want to store in the vectorstore, you can create a list of dictionaries where each dictionary contains the metadata for the corresponding text. You would then pass this list as the `metadatas` parameter to the `from_texts` method.\n",
      "\n",
      "Please note that the above code assumes that you have already set up the necessary environment and installed the LangChain library and its dependencies. If you encounter any issues with specific classes or methods, make sure to refer to the LangChain documentation for the version you are using, as the API may have changed.\u001b[0m\n",
      "Thought:\u001b[32;1m\u001b[1;3mI now know the final answer\n",
      "Final Answer: To create a FAISS vectorstore from a pandas DataFrame column using the langchain library, follow these steps:\n",
      "\n",
      "1. Install the `faiss` Python package.\n",
      "2. Choose an embedding class from LangChain or implement your own.\n",
      "3. Convert the DataFrame column to a list of strings.\n",
      "4. Initialize your embeddings with the chosen embedding class.\n",
      "5. Use the `FAISS.from_texts` method to create the FAISS vectorstore from the list of texts and embeddings.\n",
      "\n",
      "Here's a code example:\n",
      "\n",
      "```python\n",
      "import pandas as pd\n",
      "from langchain.vectorstores import FAISS\n",
      "from langchain.embeddings import YourChosenEmbeddingClass  # Replace with your chosen embedding class\n",
      "\n",
      "# Your pandas DataFrame\n",
      "df = pd.DataFrame({\n",
      "    'text_column': ['text1', 'text2', 'text3', ...]  # Replace with your actual text column\n",
      "})\n",
      "\n",
      "# Convert the DataFrame column to a list of strings\n",
      "texts = df['text_column'].tolist()\n",
      "\n",
      "# Initialize your embeddings (replace YourChosenEmbeddingClass with the actual class you're using)\n",
      "embeddings = YourChosenEmbeddingClass()\n",
      "\n",
      "# Create the FAISS vectorstore from the list of texts\n",
      "faiss_vectorstore = FAISS.from_texts(texts, embeddings)\n",
      "```\n",
      "\n",
      "Replace `YourChosenEmbeddingClass` with the actual embedding class you intend to use. If you have metadata to include, create a list of dictionaries with the metadata and pass it as the `metadatas` parameter to the `from_texts` method. Ensure you have the LangChain library and its dependencies installed.\u001b[0m\n",
      "\n",
      "\u001b[1m> Finished chain.\u001b[0m\n",
      "\n",
      "Observation: \u001b[36;1m\u001b[1;3m{'input': 'How can I use the langchain library to create a faiss vectorstore from a pandas DataFrame column?', 'history': '', 'output': \"To create a FAISS vectorstore from a pandas DataFrame column using the langchain library, follow these steps:\\n\\n1. Install the `faiss` Python package.\\n2. Choose an embedding class from LangChain or implement your own.\\n3. Convert the DataFrame column to a list of strings.\\n4. Initialize your embeddings with the chosen embedding class.\\n5. Use the `FAISS.from_texts` method to create the FAISS vectorstore from the list of texts and embeddings.\\n\\nHere's a code example:\\n\\n```python\\nimport pandas as pd\\nfrom langchain.vectorstores import FAISS\\nfrom langchain.embeddings import YourChosenEmbeddingClass  # Replace with your chosen embedding class\\n\\n# Your pandas DataFrame\\ndf = pd.DataFrame({\\n    'text_column': ['text1', 'text2', 'text3', ...]  # Replace with your actual text column\\n})\\n\\n# Convert the DataFrame column to a list of strings\\ntexts = df['text_column'].tolist()\\n\\n# Initialize your embeddings (replace YourChosenEmbeddingClass with the actual class you're using)\\nembeddings = YourChosenEmbeddingClass()\\n\\n# Create the FAISS vectorstore from the list of texts\\nfaiss_vectorstore = FAISS.from_texts(texts, embeddings)\\n```\\n\\nReplace `YourChosenEmbeddingClass` with the actual embedding class you intend to use. If you have metadata to include, create a list of dictionaries with the metadata and pass it as the `metadatas` parameter to the `from_texts` method. Ensure you have the LangChain library and its dependencies installed.\"}\u001b[0m\n",
      "Thought:\u001b[32;1m\u001b[1;3mThe specialist provided a clear explanation of how to create a FAISS vectorstore from a pandas DataFrame column using the langchain library. The steps include installing the `faiss` package, choosing an embedding class, converting the DataFrame column to a list of strings, initializing the embeddings, and using the `FAISS.from_texts` method to create the vectorstore.\n",
      "\n",
      "Now, I will write the Python code that performs the two steps requested by the user. The first step is to read the CSV file into a pandas DataFrame, and the second step is to create a FAISS vectorstore from the `text` column of the DataFrame using the langchain library.\n",
      "\n",
      "Action:\n",
      "```json\n",
      "{\n",
      "  \"action\": \"turn-in-deliverable\",\n",
      "  \"action_input\": {\n",
      "    \"comment\": \"Here is the Python code that reads a CSV file into a pandas DataFrame and then creates a FAISS vectorstore from the 'text' column using the langchain library.\",\n",
      "    \"python_code\": \"import pandas as pd\\nfrom langchain.vectorstores import FAISS\\nfrom langchain.embeddings import YourChosenEmbeddingClass  # Replace with your chosen embedding class\\n\\n# Step 1: Read the CSV file into a pandas DataFrame\\ndf = pd.read_csv('local.csv')\\n\\n# Step 2: Create a FAISS vectorstore from the 'text' column of the DataFrame\\n# Convert the DataFrame column to a list of strings\\ntexts = df['text'].tolist()\\n\\n# Initialize your embeddings (replace YourChosenEmbeddingClass with the actual class you're using)\\nembeddings = YourChosenEmbeddingClass()\\n\\n# Create the FAISS vectorstore from the list of texts\\nfaiss_vectorstore = FAISS.from_texts(texts, embeddings)\"\n",
      "  }\n",
      "}\n",
      "```\n",
      "\n",
      "\n",
      "\u001b[0m\n",
      "Observation: \u001b[33;1m\u001b[1;3mHere is the Python code that reads a CSV file into a pandas DataFrame and then creates a FAISS vectorstore from the 'text' column using the langchain library.\n",
      "\n",
      "import pandas as pd\n",
      "from langchain.vectorstores import FAISS\n",
      "from langchain.embeddings import YourChosenEmbeddingClass  # Replace with your chosen embedding class\n",
      "\n",
      "# Step 1: Read the CSV file into a pandas DataFrame\n",
      "df = pd.read_csv('local.csv')\n",
      "\n",
      "# Step 2: Create a FAISS vectorstore from the 'text' column of the DataFrame\n",
      "# Convert the DataFrame column to a list of strings\n",
      "texts = df['text'].tolist()\n",
      "\n",
      "# Initialize your embeddings (replace YourChosenEmbeddingClass with the actual class you're using)\n",
      "embeddings = YourChosenEmbeddingClass()\n",
      "\n",
      "# Create the FAISS vectorstore from the list of texts\n",
      "faiss_vectorstore = FAISS.from_texts(texts, embeddings)\u001b[0m\n",
      "\u001b[32;1m\u001b[1;3m\u001b[0m\n",
      "\n",
      "\u001b[1m> Finished chain.\u001b[0m\n",
      "CPU times: total: 4.16 s\n",
      "Wall time: 1min 7s\n"
     ]
    }
   ],
   "source": [
    "%%time\n",
    "\n",
    "result = a.agent.invoke(instructions)"
   ]
  },
  {
   "cell_type": "code",
   "execution_count": 5,
   "id": "10b1ed49-7df9-428e-8d33-11341b694fa1",
   "metadata": {},
   "outputs": [
    {
     "name": "stdout",
     "output_type": "stream",
     "text": [
      "Here is the Python code that reads a CSV file into a pandas DataFrame and then creates a FAISS vectorstore from the 'text' column using the langchain library.\n",
      "\n",
      "import pandas as pd\n",
      "from langchain.vectorstores import FAISS\n",
      "from langchain.embeddings import YourChosenEmbeddingClass  # Replace with your chosen embedding class\n",
      "\n",
      "# Step 1: Read the CSV file into a pandas DataFrame\n",
      "df = pd.read_csv('local.csv')\n",
      "\n",
      "# Step 2: Create a FAISS vectorstore from the 'text' column of the DataFrame\n",
      "# Convert the DataFrame column to a list of strings\n",
      "texts = df['text'].tolist()\n",
      "\n",
      "# Initialize your embeddings (replace YourChosenEmbeddingClass with the actual class you're using)\n",
      "embeddings = YourChosenEmbeddingClass()\n",
      "\n",
      "# Create the FAISS vectorstore from the list of texts\n",
      "faiss_vectorstore = FAISS.from_texts(texts, embeddings)\n"
     ]
    }
   ],
   "source": [
    "print(result['output'])"
   ]
  }
 ],
 "metadata": {
  "kernelspec": {
   "display_name": "Python 3 (ipykernel)",
   "language": "python",
   "name": "python3"
  },
  "language_info": {
   "codemirror_mode": {
    "name": "ipython",
    "version": 3
   },
   "file_extension": ".py",
   "mimetype": "text/x-python",
   "name": "python",
   "nbconvert_exporter": "python",
   "pygments_lexer": "ipython3",
   "version": "3.11.6"
  }
 },
 "nbformat": 4,
 "nbformat_minor": 5
}
